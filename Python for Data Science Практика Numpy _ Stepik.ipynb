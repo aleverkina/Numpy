{
 "cells": [
  {
   "cell_type": "markdown",
   "id": "99dc658c",
   "metadata": {},
   "source": [
    "1. Создайте трехмерный массив (каждый массив должен содержать две строки и четыре столбца) и определите его количество измерений."
   ]
  },
  {
   "cell_type": "code",
   "execution_count": 1,
   "id": "fba35bbf",
   "metadata": {},
   "outputs": [
    {
     "name": "stdout",
     "output_type": "stream",
     "text": [
      "[[[0. 0. 0. 0.]\n",
      "  [0. 0. 0. 0.]]\n",
      "\n",
      " [[0. 0. 0. 0.]\n",
      "  [0. 0. 0. 0.]]\n",
      "\n",
      " [[0. 0. 0. 0.]\n",
      "  [0. 0. 0. 0.]]]\n",
      "Количество измерений: 3\n"
     ]
    }
   ],
   "source": [
    "import numpy as np\n",
    "\n",
    "shape = (3, 2, 4)\n",
    "arr = np.zeros(shape)\n",
    "\n",
    "dimensions =  arr.ndim \n",
    "\n",
    "print(arr)\n",
    "print(\"Количество измерений:\", dimensions)"
   ]
  },
  {
   "cell_type": "markdown",
   "id": "aacaaddf",
   "metadata": {},
   "source": [
    "2. Создайте матрицу 3x4 заполненную единицами и определите её размеры."
   ]
  },
  {
   "cell_type": "code",
   "execution_count": 2,
   "id": "27ff7ef7",
   "metadata": {},
   "outputs": [
    {
     "name": "stdout",
     "output_type": "stream",
     "text": [
      "Матрица:\n",
      "[[1. 1. 1. 1.]\n",
      " [1. 1. 1. 1.]\n",
      " [1. 1. 1. 1.]]\n",
      "Размеры матрицы: (3, 4)\n"
     ]
    }
   ],
   "source": [
    "import numpy as np\n",
    "\n",
    "matrix = np.ones((3, 4)) \n",
    "\n",
    "matrix_shape =  matrix.shape\n",
    "\n",
    "print(\"Матрица:\")\n",
    "print(matrix)\n",
    "print(\"Размеры матрицы:\", matrix_shape)"
   ]
  },
  {
   "cell_type": "markdown",
   "id": "bda920e5",
   "metadata": {},
   "source": [
    "3.  Повторите созданный массив с элементами(1, 2, 3) 4 раза вдоль оси 0(строки) и дополнительно, каждую строку массива увеличьте по размеру в два раза с те же элементами (вдоль оси 1(столбцы)), и еще,  дополнительно, сделайте этот массив двумерным."
   ]
  },
  {
   "cell_type": "code",
   "execution_count": 4,
   "id": "27b81a37",
   "metadata": {},
   "outputs": [
    {
     "name": "stdout",
     "output_type": "stream",
     "text": [
      "Исходный массив:\n",
      "[1 2 3]\n",
      "Массив с повторенными элементами:\n",
      "[[[1 2 3 1 2 3]\n",
      "  [1 2 3 1 2 3]\n",
      "  [1 2 3 1 2 3]\n",
      "  [1 2 3 1 2 3]]\n",
      "\n",
      " [[1 2 3 1 2 3]\n",
      "  [1 2 3 1 2 3]\n",
      "  [1 2 3 1 2 3]\n",
      "  [1 2 3 1 2 3]]]\n"
     ]
    }
   ],
   "source": [
    "import numpy as np\n",
    "\n",
    "original_array = np.array([1, 2, 3])\n",
    "\n",
    "tiled_array =  np.tile(original_array, (2, 4, 2))# повторение массива + сделайте этот массив двумерным\n",
    "\n",
    "print(\"Исходный массив:\")\n",
    "print(original_array)\n",
    "\n",
    "print(\"Массив с повторенными элементами:\")\n",
    "print(tiled_array)"
   ]
  },
  {
   "cell_type": "markdown",
   "id": "08179cdb",
   "metadata": {},
   "source": [
    "4. Предположим, у вас есть два датасета с данными о температуре и влажности. Каждый датасет представлен в виде двумерного массива, где строки представляют дни, а столбцы представляют конкретные моменты времени в течение дня. Тип данных - int. Но вам нужно изменить их на float.\n",
    "\n",
    "Создайте функцию, которая принимает на вход два аргумента: dataset и new_dtype.\n",
    "Используйте функцию для изменения типа данных каждого датасета на тип float."
   ]
  },
  {
   "cell_type": "code",
   "execution_count": 5,
   "id": "17f3aec4",
   "metadata": {},
   "outputs": [
    {
     "name": "stdout",
     "output_type": "stream",
     "text": [
      "Новый тип данных temp_data: float64\n",
      "Новый тип данных humid_data: float64\n"
     ]
    }
   ],
   "source": [
    "import numpy as np\n",
    "\n",
    "temp_data = np.array([[22, 25, 24, 23, 21],\n",
    "                      [20, 18, 19, 22, 24]])\n",
    "\n",
    "humid_data = np.array([[45, 50, 48, 52, 47],\n",
    "                       [45, 48, 50, 51, 53]])\n",
    "\n",
    "def change_data_type(dataset, new_dtype): \n",
    "    return dataset.astype(new_dtype)\n",
    "\n",
    "temp_data = change_data_type(temp_data, float)\n",
    "humid_data = change_data_type(humid_data, float) \n",
    "\n",
    "print(f'Новый тип данных temp_data: {temp_data.dtype}')\n",
    "print(f'Новый тип данных humid_data: {humid_data.dtype}')"
   ]
  },
  {
   "cell_type": "markdown",
   "id": "e09646c7",
   "metadata": {},
   "source": [
    "5. Выберите все элементы второй строки для каждой матрицы."
   ]
  },
  {
   "cell_type": "code",
   "execution_count": 6,
   "id": "46f3c442",
   "metadata": {},
   "outputs": [
    {
     "name": "stdout",
     "output_type": "stream",
     "text": [
      "Все элементы вдоль второго измерения для каждой матрицы:\n",
      "[[ 4  5  6]\n",
      " [13 14 15]\n",
      " [22 23 24]]\n"
     ]
    }
   ],
   "source": [
    "import numpy as np\n",
    "tensor = np.array([[[1, 2, 3],\n",
    "                    [4, 5, 6],\n",
    "                    [7, 8, 9]],\n",
    "\n",
    "                   [[10, 11, 12],\n",
    "                    [13, 14, 15],\n",
    "                    [16, 17, 18]],\n",
    "\n",
    "                   [[19, 20, 21],\n",
    "                    [22, 23, 24],\n",
    "                    [25, 26, 27]]])\n",
    "\n",
    "result = tensor[:, 1, :] \n",
    "\n",
    "print(f'Все элементы вдоль второго измерения для каждой матрицы:\\n{result}')"
   ]
  },
  {
   "cell_type": "markdown",
   "id": "88172746",
   "metadata": {},
   "source": [
    "6. Выберите элементы в каждой матрице в нижнем правом углу, начиная с третьей строки и третьего столбца и до конца каждой матрицы. Обратите внимание - результат должен быть трехмерным массивом, где каждая подматрица содержит элементы в нижнем правом углу соответствующей матрицы."
   ]
  },
  {
   "cell_type": "code",
   "execution_count": 7,
   "id": "a513fefb",
   "metadata": {},
   "outputs": [
    {
     "name": "stdout",
     "output_type": "stream",
     "text": [
      "Элементы в каждой матрице в нижнем правом угле:\n",
      "[[[ 9]]\n",
      "\n",
      " [[18]]\n",
      "\n",
      " [[27]]]\n"
     ]
    }
   ],
   "source": [
    "import numpy as np\n",
    "tensor = np.array([[[1, 2, 3],\n",
    "                    [4, 5, 6],\n",
    "                    [7, 8, 9]],\n",
    "\n",
    "                   [[10, 11, 12],\n",
    "                    [13, 14, 15],\n",
    "                    [16, 17, 18]],\n",
    "\n",
    "                   [[19, 20, 21],\n",
    "                    [22, 23, 24],\n",
    "                    [25, 26, 27]]])\n",
    "\n",
    "result =  tensor[:, 2:3, 2:3]\n",
    "\n",
    "print(f'Элементы в каждой матрице в нижнем правом угле:\\n{result}')"
   ]
  },
  {
   "cell_type": "markdown",
   "id": "29052783",
   "metadata": {},
   "source": [
    "7. Выберите из 2D массива matrix все строки, в которых есть хотя бы одно число больше 7."
   ]
  },
  {
   "cell_type": "code",
   "execution_count": null,
   "id": "14d0b57e",
   "metadata": {},
   "outputs": [],
   "source": [
    "import numpy as np\n",
    "\n",
    "matrix = np.array([[1, 2, 3],\n",
    "                   [4, 5, 6],\n",
    "                   [7, 8, 9]])\n",
    "\n",
    "result =  matrix[np.any(matrix > 7, 1)]\n",
    "\n",
    "print(result)"
   ]
  },
  {
   "cell_type": "markdown",
   "id": "997420b3",
   "metadata": {},
   "source": [
    "8. Замените в массиве arr все четные числа на 0."
   ]
  },
  {
   "cell_type": "code",
   "execution_count": null,
   "id": "ddf86f55",
   "metadata": {},
   "outputs": [],
   "source": [
    "import numpy as np\n",
    "\n",
    "arr = np.array([1, 2, 3, 4, 5, 6])\n",
    "\n",
    "arr[arr % 2 == 0] = 0 \n",
    "\n",
    "print(arr)"
   ]
  },
  {
   "cell_type": "markdown",
   "id": "aea2daf8",
   "metadata": {},
   "source": [
    "9. Предположим, у вас есть набор данных о продажах товаров, представленный в виде двумерного массива sales_data_array. Каждая строка представляет собой информацию о продажах для конкретного товара, а столбцы содержат следующую информацию: номер товара, количество проданных единиц, и доход от продаж.\n",
    "\n",
    "Ваша задача - проверить следующие условия:\n",
    "\n",
    "Есть ли хотя бы одна запись с нулевыми продажами (количество проданных единиц равно 0)?\n",
    "Все ли товары имеют положительный доход от продаж?"
   ]
  },
  {
   "cell_type": "code",
   "execution_count": null,
   "id": "80ffadae",
   "metadata": {},
   "outputs": [],
   "source": [
    "import numpy as np\n",
    "\n",
    "sales_data_array = np.array([[1, 10, 100],\n",
    "                             [2, 5, 50],\n",
    "                             [3, 0, 0],\n",
    "                             [4, 8, 80]])\n",
    "\n",
    "def analyze_sales_data(sales_data):\n",
    "    has_zero_sales = np.any(sales_data[:, 1] == 0) # проверка, есть ли хотя бы одна запись с нулевыми продажами\n",
    "    all_positive_income = np.all(sales_data[:, 2] > 0) # проверка, все ли товары имеют положительный доход от продаж\n",
    "\n",
    "    return [has_zero_sales, all_positive_income]  \n",
    "\n",
    "result =  analyze_sales_data(sales_data_array)\n",
    "\n",
    "print(f\"Есть ли товары с нулевыми продажами: {result[0]}\")  \n",
    "print(f\"Все ли товары имеют положительный доход: {result[1]}\")  "
   ]
  },
  {
   "cell_type": "markdown",
   "id": "6e69db1b",
   "metadata": {},
   "source": [
    "10. Дан массив data, содержащий информацию о студентах: имя, возраст, пол, курс и средний балл. Найдите имена, средние баллы и другую информацию студентов, которые старше 20 лет, женского пола и учатся на третьем курсе. "
   ]
  },
  {
   "cell_type": "code",
   "execution_count": 10,
   "id": "1293f85c",
   "metadata": {},
   "outputs": [
    {
     "name": "stdout",
     "output_type": "stream",
     "text": [
      "[['Вера' '21' 'F' '3' '4.8']]\n"
     ]
    }
   ],
   "source": [
    "import numpy as np\n",
    "\n",
    "data = np.array([\n",
    "    ['Анна', 19, 'F', 1, 4.5],\n",
    "    ['Борис', 21, 'M', 2, 3.7],\n",
    "    ['Вера', 21, 'F', 3, 4.8],\n",
    "    ['Глеб', 22, 'M', 4, 3.9],\n",
    "    ['Дарья', 18, 'F', 1, 4.2],\n",
    "    ['Егор', 23, 'M', 3, 4.1],\n",
    "    ['Жанна', 21, 'F', 2, 4.6],\n",
    "    ['Захар', 19, 'M', 1, 4.0]\n",
    "])\n",
    "\n",
    "\n",
    "mask =  (data[:, 1].astype(int) > 20) & (data[:, 2] == 'F') & (data[:, 3].astype(int) == 3)\n",
    "result =  data[mask]\n",
    "\n",
    "print(result)"
   ]
  },
  {
   "cell_type": "markdown",
   "id": "8cf94c47",
   "metadata": {},
   "source": [
    "11. Транспонировать только те строки, у которых первый элемент больше 3"
   ]
  },
  {
   "cell_type": "code",
   "execution_count": null,
   "id": "e9e88059",
   "metadata": {},
   "outputs": [],
   "source": [
    "import numpy as np\n",
    "\n",
    "# Заданная матрица A\n",
    "A = np.array([[1, 2, 3, 4],\n",
    "              [5, 6, 7, 8],\n",
    "              [9, 10, 11, 12],\n",
    "              [13, 14, 15, 16],\n",
    "              [17, 18, 19, 20]])\n",
    "\n",
    "condition = A[:, 0] > 3 \n",
    "\n",
    "A[condition] = A[condition].T  \n",
    "\n",
    "print(\"Матрица A после транспонирования строк с первым элементом больше 3:\")\n",
    "print(A)"
   ]
  },
  {
   "cell_type": "markdown",
   "id": "2f4f6653",
   "metadata": {},
   "source": [
    "12. Транспонируйте верхний левый квадрант матрицы A."
   ]
  },
  {
   "cell_type": "code",
   "execution_count": null,
   "id": "d401dca1",
   "metadata": {},
   "outputs": [],
   "source": [
    "import numpy as np\n",
    "\n",
    "A = np.array([[1, 2, 3, 4],\n",
    "              [5, 6, 7, 8],\n",
    "              [9, 10, 11, 12]])\n",
    "\n",
    "A =  np.transpose(A[:2, :2], (1, 0))\n",
    "\n",
    "print(\"Матрица A после транспонирования верхнего левого квадранта:\")\n",
    "print(A)"
   ]
  },
  {
   "cell_type": "markdown",
   "id": "4d21bb46",
   "metadata": {},
   "source": [
    "13. Создайте массив размером 2x8, заполненный значениями от 0 до 15."
   ]
  },
  {
   "cell_type": "code",
   "execution_count": 1,
   "id": "f0fdbaa9",
   "metadata": {},
   "outputs": [],
   "source": [
    "import numpy as np\n",
    "\n",
    "arr = np.arange(0,16)\n",
    "arr_r = np.reshape(arr, (2, 8))\n",
    "\n",
    "\n",
    "print(\"Массив:\")\n",
    "print(arr_r)"
   ]
  },
  {
   "cell_type": "markdown",
   "id": "e8805d62",
   "metadata": {},
   "source": [
    "14. У нас есть массив цен prices и ставка НДС vat_rate, и вам нужно рассчитать стоимость товаров с учетом НДС."
   ]
  },
  {
   "cell_type": "code",
   "execution_count": null,
   "id": "ef7f13a0",
   "metadata": {},
   "outputs": [],
   "source": [
    "import numpy as np\n",
    "\n",
    "prices = np.array([25.50, 12.75, 18.90, 30.25, 15.60])\n",
    "vat_rate = 0.20\n",
    "\n",
    "prices_with_vat =  np.add(np.multiply(prices, vat_rate), prices)\n",
    "\n",
    "print(\"Стоимость товаров с НДС:\", prices_with_vat)"
   ]
  },
  {
   "cell_type": "markdown",
   "id": "25162144",
   "metadata": {},
   "source": [
    "15. У вас есть массив, представляющий собой скорости движения транспортного средства в км/ч: speeds = np.array([60, 75, 90, 100, 80, 65]). Напишите программу для определения времени в пути для каждой скорости при преодолении расстояния 150 км с учетом замедления движения на 20%. Когда будете считать время, округлите  результат вниз, возвращая только целую часть."
   ]
  },
  {
   "cell_type": "code",
   "execution_count": null,
   "id": "65966d49",
   "metadata": {},
   "outputs": [],
   "source": [
    "import numpy as np\n",
    "\n",
    "speeds = np.array([60, 75, 90, 100, 80, 65])\n",
    "distance = 150\n",
    "slowdown_rate = 0.20\n",
    "\n",
    "adjusted_speeds =  np.subtract(speeds, np.multiply(speeds, slowdown_rate)) \n",
    "travel_times =  np.floor(np.divide(distance, adjusted_speeds)) \n",
    "\n",
    "print(\"Время в пути для каждой скорости:\", travel_times)"
   ]
  },
  {
   "cell_type": "markdown",
   "id": "3be832e4",
   "metadata": {},
   "source": [
    "16.Используйте методы NumPy, чтобы получить новый массив, где каждый элемент равен 1, если классификации (classification1 и classification2) совпадают, и 0 в противном случае."
   ]
  },
  {
   "cell_type": "code",
   "execution_count": null,
   "id": "af850a23",
   "metadata": {},
   "outputs": [],
   "source": [
    "import numpy as np\n",
    "\n",
    "classification1 = np.array([[1, 0, 1], \n",
    "                            [0, 1, 0]])\n",
    "classification2 = np.array([[1, 0, 0], \n",
    "                            [0, 1, 1]])\n",
    "\n",
    "result = np.equal(classification1, classification2).astype(int) \n",
    "\n",
    "print(result)"
   ]
  },
  {
   "cell_type": "markdown",
   "id": "026682d6",
   "metadata": {},
   "source": [
    "17. Есть два массива, celsius_temps представляющий температуру в градусах Цельсия и days представляющий дни в которые эта температура была зарегистрирована. Определите, в какие дни температура в Фаренгейтах была выше 90, а в Цельсиях не ниже 30."
   ]
  },
  {
   "cell_type": "code",
   "execution_count": null,
   "id": "eb7d2f5a",
   "metadata": {},
   "outputs": [],
   "source": [
    "import numpy as np\n",
    "\n",
    "celsius_temps = np.array([25, 32, 28, 35, 30]) \n",
    "days = np.array(['понедельник', 'вторник', 'среда', 'четверг', 'пятница']) \n",
    "\n",
    "fahrenheit_temps = np.add(np.divide(np.multiply(celsius_temps, 9), 5), 32) # температура в Фаренгейтах\n",
    "\n",
    "hot_days_fahrenheit_temps = days[fahrenheit_temps > 90] # дни когда температура в Фаренгейтах была выше 90\n",
    "hot_days_celsius_temps = days[celsius_temps >= 30] # дни когда температура в Цельсиях не ниже 30\n",
    "\n",
    "print(f'Температура выше 90 по Фаренгейту: {hot_days_fahrenheit_temps}')\n",
    "print(f'Температура не ниже 30 Цельсия: {hot_days_celsius_temps}')"
   ]
  },
  {
   "cell_type": "markdown",
   "id": "9a9ab9fa",
   "metadata": {},
   "source": [
    "18. Есть массив, представляющий возрастающую последовательность чисел. Определите, какие числа удовлетворяют критериям: больше 10 и не больше 30, и не равны 15."
   ]
  },
  {
   "cell_type": "code",
   "execution_count": null,
   "id": "901dc7f8",
   "metadata": {},
   "outputs": [],
   "source": [
    "import numpy as np\n",
    "\n",
    "numbers = np.array([5, 12, 15, 20, 25, 30, 35])\n",
    "\n",
    "condition1 = (numbers > 10) & (numbers <= 30) \n",
    "condition2 = numbers != 15 \n",
    "\n",
    "\n",
    "    \n",
    "filtered_numbers = numbers[condition1 & condition2]\n",
    "\n",
    "print(f'Числа, удовлетворяющие условиям: {filtered_numbers}')"
   ]
  },
  {
   "cell_type": "markdown",
   "id": "eb25be0c",
   "metadata": {},
   "source": [
    "19. Создайте новый массив,  который содержит 'A' для элементов больше 5, 'B' для элементов от 1 до 5 включительно и 'C' в противном случае."
   ]
  },
  {
   "cell_type": "code",
   "execution_count": null,
   "id": "4dec8f2c",
   "metadata": {},
   "outputs": [],
   "source": [
    "import numpy as np\n",
    "\n",
    "arr = np.array([3, 8, 1, 6, 0, 7])\n",
    "\n",
    "result_arr = np.where(arr > 5, 'A', np.where(arr == 0, 'C', 'B')) \n",
    "print(\"Массив arr:\")\n",
    "print(arr)\n",
    "print(\"Итоговый массив:\")\n",
    "print(result_arr)"
   ]
  },
  {
   "cell_type": "markdown",
   "id": "66b773fb",
   "metadata": {},
   "source": [
    "20. Представим, что у вас есть данные о ежедневных изменениях стоимости акций компании. Используйте методы для анализа финансовых показателей. Найдите изменение цен за каждый день, а также дни с минимальным и максимальным изменением."
   ]
  },
  {
   "cell_type": "code",
   "execution_count": null,
   "id": "926a74ef",
   "metadata": {},
   "outputs": [],
   "source": [
    "import numpy as np\n",
    "\n",
    "stock_prices = np.array([50, 55, 60, 52, 48, 65, 70])\n",
    "days = np.array(['понедельник', 'вторник', 'среда', 'четверг', 'пятница', 'суббота', 'воскресенье'])\n",
    "\n",
    "daily_returns = np.diff(stock_prices)\n",
    "best_day = days[np.argmax(daily_returns) + 1] \n",
    "worst_day = days[np.argmin(daily_returns) + 1]\n",
    "\n",
    "\n",
    "print(f\"Изменения цен за день: {daily_returns}\")\n",
    "print(f\"Лучший день: {best_day}\")\n",
    "print(f\"Худший день: {worst_day}\")"
   ]
  },
  {
   "cell_type": "markdown",
   "id": "49a03f76",
   "metadata": {},
   "source": [
    "21. Найдите среднюю стоимость акций каждой компании за все дни. Затем определите компанию с максимальной волатильностью (наибольшим размахом цен). И под конец, найдите день с наибольшим общим изменением в стоимости акций всех компаний."
   ]
  },
  {
   "cell_type": "code",
   "execution_count": 1,
   "id": "468c8ea0",
   "metadata": {},
   "outputs": [
    {
     "name": "stdout",
     "output_type": "stream",
     "text": [
      "Средняя стоимость акций каждой компании: [120.71 121.43 120.86]\n",
      "Индекс самой волатильной компании: 2\n",
      "Индекс дня с наибольшим изменением в стоимости акций: 3\n"
     ]
    }
   ],
   "source": [
    "import numpy as np\n",
    "\n",
    "# Цены акций для 3 компаний(каждый столбец - отдельная компания)\n",
    "stock_prices = np.array([\n",
    "    [110, 112, 108],\n",
    "    [115, 118, 120],\n",
    "    [108, 110, 105],\n",
    "    [122, 121, 124],\n",
    "    [128, 130, 125],\n",
    "    [133, 132, 134],\n",
    "    [129, 127, 130]\n",
    "])\n",
    "\n",
    "average_prices = np.mean(stock_prices, axis=0).round(2)\n",
    "\n",
    "volatility = np.ptp(stock_prices, axis=0) \n",
    "most_volatile_company = np.argmax(volatility) \n",
    "\n",
    "total_daily_change = np.diff(np.sum(stock_prices, axis=1))     \n",
    "day_with_max_change = np.argmax(total_daily_change) + 1\n",
    "\n",
    "print(\"Средняя стоимость акций каждой компании:\", average_prices) \n",
    "print(\"Индекс самой волатильной компании:\", most_volatile_company) \n",
    "print(\"Индекс дня с наибольшим изменением в стоимости акций:\", day_with_max_change)"
   ]
  },
  {
   "cell_type": "markdown",
   "id": "e9c182b0",
   "metadata": {},
   "source": [
    "22. У вас есть два массива целых чисел, arr1 и arr2. Ваша задача - найти и вывести объединение уникальных элементов обоих массивов, а также определить те числа, которые встречаются и в arr1, и в arr2. "
   ]
  },
  {
   "cell_type": "code",
   "execution_count": null,
   "id": "671cda31",
   "metadata": {},
   "outputs": [],
   "source": [
    "import numpy as np\n",
    "\n",
    "arr1 = np.array([1, 2, 3, 4, 5])\n",
    "arr2 = np.array([3, 4, 5, 6, 7])\n",
    "\n",
    "unique_arr1 = np.unique(arr1) \n",
    "unique_arr2 = np.unique(arr2) \n",
    "\n",
    "union = np.union1d(unique_arr1, unique_arr2) \n",
    "\n",
    "in_arr1_mask = np.in1d(union, arr1) \n",
    "in_arr2_mask = np.in1d(union, arr2) \n",
    "\n",
    "common_elements_mask = np.in1d(union, np.intersect1d(arr1, arr2)) \n",
    "common_elements = union[common_elements_mask] \n",
    "\n",
    "print(\"Объединение уникальных элементов:\", union)\n",
    "print(\"Маска для вхождения в arr1:\", in_arr1_mask)\n",
    "print(\"Маска для вхождения в arr2:\", in_arr2_mask)\n",
    "print(\"Маска для общих элементов:\", common_elements_mask)\n",
    "print(\"Элементы, встречающиеся и в arr1, и в arr2:\", common_elements)"
   ]
  },
  {
   "cell_type": "markdown",
   "id": "647cc3cc",
   "metadata": {},
   "source": [
    "23. Удалите из массива arr все элементы, которые встречаются более одного раза."
   ]
  },
  {
   "cell_type": "code",
   "execution_count": null,
   "id": "67e1ffd3",
   "metadata": {},
   "outputs": [],
   "source": [
    "import numpy as np\n",
    "\n",
    "arr = np.array([3, 2, 4, 1, 5, 2, 6, 4, 7])\n",
    "\n",
    "unique_elements, counts = np.unique(arr, return_counts=True) \n",
    "elements_to_remove = unique_elements[counts > 1]  \n",
    "\n",
    "filtered_arr = arr[np.in1d(arr, elements_to_remove) == False] \n",
    "\n",
    "print(\"Исходный массив:\", arr)\n",
    "print(\"Массив после удаления элементов, встречающихся более одного раза:\", filtered_arr)"
   ]
  }
 ],
 "metadata": {
  "kernelspec": {
   "display_name": "Python 3 (ipykernel)",
   "language": "python",
   "name": "python3"
  },
  "language_info": {
   "codemirror_mode": {
    "name": "ipython",
    "version": 3
   },
   "file_extension": ".py",
   "mimetype": "text/x-python",
   "name": "python",
   "nbconvert_exporter": "python",
   "pygments_lexer": "ipython3",
   "version": "3.11.5"
  }
 },
 "nbformat": 4,
 "nbformat_minor": 5
}
